{
  "nbformat": 4,
  "nbformat_minor": 0,
  "metadata": {
    "colab": {
      "name": "week 10",
      "provenance": [],
      "collapsed_sections": [],
      "authorship_tag": "ABX9TyMpeJF66hjYGtv9U52hpYn+",
      "include_colab_link": true
    },
    "kernelspec": {
      "name": "python3",
      "display_name": "Python 3"
    }
  },
  "cells": [
    {
      "cell_type": "markdown",
      "metadata": {
        "id": "view-in-github",
        "colab_type": "text"
      },
      "source": [
        "<a href=\"https://colab.research.google.com/github/sarahem18/Python_Assignments/blob/master/week_10.ipynb\" target=\"_parent\"><img src=\"https://colab.research.google.com/assets/colab-badge.svg\" alt=\"Open In Colab\"/></a>"
      ]
    },
    {
      "cell_type": "code",
      "metadata": {
        "id": "YPCqUmyTZcmR"
      },
      "source": [
        "import urllib.request\n",
        "\n",
        "some_file = \"https://raw.githubusercontent.com/mlepinski/Python-Worksheets/master/Sonnets.txt\"\n",
        "my_file = urllib.request.urlopen(some_file)"
      ],
      "execution_count": 1,
      "outputs": []
    },
    {
      "cell_type": "code",
      "metadata": {
        "id": "WUZ4mIxrJkvZ"
      },
      "source": [
        "def count_lines(file_name):\n",
        "  line_count = 0\n",
        "  for line in file_name:\n",
        "    line = line.decode(\"utf-8\")\n",
        "    line_count += 1\n",
        "  print(\"The file has\", line_count, \"lines\")"
      ],
      "execution_count": 2,
      "outputs": []
    },
    {
      "cell_type": "code",
      "metadata": {
        "id": "ds9zjmVOQ6ue",
        "outputId": "33e15acf-fc0a-4b12-ea10-645ca4c7253f",
        "colab": {
          "base_uri": "https://localhost:8080/"
        }
      },
      "source": [
        "count_lines(my_file)"
      ],
      "execution_count": 3,
      "outputs": [
        {
          "output_type": "stream",
          "text": [
            "The file has 2617 lines\n"
          ],
          "name": "stdout"
        }
      ]
    },
    {
      "cell_type": "code",
      "metadata": {
        "id": "8qTljzJ6P_rj"
      },
      "source": [
        "def lines_with_word(file_name, word_choice):\n",
        "  my_file = urllib.request.urlopen(file_name)\n",
        "  line_count = 0\n",
        "  for line in my_file:\n",
        "    line = line.decode(\"utf-8\")\n",
        "    if word_choice in line:\n",
        "      line_count += 1\n",
        "  return line_count"
      ],
      "execution_count": 4,
      "outputs": []
    },
    {
      "cell_type": "code",
      "metadata": {
        "id": "9NnoLqQ9U4uB",
        "outputId": "4668da68-0845-4a73-91f1-9b6f5c5655da",
        "colab": {
          "base_uri": "https://localhost:8080/"
        }
      },
      "source": [
        "file_name = \"https://raw.githubusercontent.com/mlepinski/Python-Worksheets/master/Sonnets.txt\"\n",
        "answer1 = lines_with_word(file_name, \"war\")\n",
        "\n",
        "print(\"war appears in\", answer1, \"lines\")"
      ],
      "execution_count": 5,
      "outputs": [
        {
          "output_type": "stream",
          "text": [
            "war appears in 39 lines\n"
          ],
          "name": "stdout"
        }
      ]
    },
    {
      "cell_type": "code",
      "metadata": {
        "id": "BMAV38TeabcK"
      },
      "source": [
        "def lines_with_word(file_name, word_choice):\n",
        "  my_file = urllib.request.urlopen(file_name)\n",
        "  line_count = 0\n",
        "  for line in my_file:\n",
        "    line = line.decode(\"utf-8\")\n",
        "    line = line.lower()\n",
        "    if word_choice in line:\n",
        "      line_count += 1\n",
        "  return line_count\n",
        "\n"
      ],
      "execution_count": 6,
      "outputs": []
    },
    {
      "cell_type": "code",
      "metadata": {
        "id": "mXrhsDFhbzIV"
      },
      "source": [
        "def word_count(file_name, word_choice):\n",
        "  word_counter = 0\n",
        "  my_file = urllib.request.urlopen(file_name)\n",
        "  long_string = my_file.read()\n",
        "  long_string = long_string.decode(\"utf-8\")\n",
        "  no_line_breaks = long_string.replace(\"\\n\", \" \")\n",
        "  list_of_words = no_line_breaks.split()\n",
        "  for word in list_of_words:\n",
        "    word = word.lower()\n",
        "    if word == word_choice:\n",
        "      word_counter += 1\n",
        "  return word_counter"
      ],
      "execution_count": 7,
      "outputs": []
    },
    {
      "cell_type": "code",
      "metadata": {
        "id": "_3HPhWjZdFzI",
        "outputId": "bbfc9078-b45b-48c4-8f1d-bea648a7e570",
        "colab": {
          "base_uri": "https://localhost:8080/"
        }
      },
      "source": [
        "word_count(file_name, \"sweets\")"
      ],
      "execution_count": 8,
      "outputs": [
        {
          "output_type": "execute_result",
          "data": {
            "text/plain": [
              "5"
            ]
          },
          "metadata": {
            "tags": []
          },
          "execution_count": 8
        }
      ]
    },
    {
      "cell_type": "code",
      "metadata": {
        "id": "yykgepIJeiEg"
      },
      "source": [
        "def word_count_punc(file_name, word_choice):\n",
        "  word_counter = 0\n",
        "  my_file = urllib.request.urlopen(file_name)\n",
        "  long_string = my_file.read()\n",
        "  long_string = long_string.decode(\"utf-8\")\n",
        "  no_line_breaks = long_string.replace(\"\\n\", \" \")\n",
        "  list_of_words = \"\".join((char if char.isalpha() else \" \") for char in no_line_breaks).split()\n",
        "  for word in list_of_words:\n",
        "    word = word.lower()\n",
        "    if word == word_choice:\n",
        "      word_counter += 1\n",
        "  return word_counter"
      ],
      "execution_count": 9,
      "outputs": []
    },
    {
      "cell_type": "code",
      "metadata": {
        "id": "BDV87x5pe3nV",
        "outputId": "d43658bc-09aa-4657-b18a-50d1aec97ee7",
        "colab": {
          "base_uri": "https://localhost:8080/"
        }
      },
      "source": [
        "print(word_count_punc(file_name, \"sweets\"))"
      ],
      "execution_count": 10,
      "outputs": [
        {
          "output_type": "stream",
          "text": [
            "6\n"
          ],
          "name": "stdout"
        }
      ]
    },
    {
      "cell_type": "code",
      "metadata": {
        "id": "pqr73C0Sg-Bl"
      },
      "source": [
        "def word_frequency(file_name, word_choice):\n",
        "  word_num = word_count_punc(file_name, word_choice)\n",
        "  my_file = urllib.request.urlopen(file_name)\n",
        "  long_string = my_file.read()\n",
        "  long_string = long_string.decode(\"utf-8\")\n",
        "  no_line_breaks = long_string.replace(\"\\n\", \" \")\n",
        "  list_of_words = no_line_breaks.split()\n",
        "  total = len(list_of_words)\n",
        "  freq = (word_num/total)*100\n",
        "  return freq"
      ],
      "execution_count": 13,
      "outputs": []
    },
    {
      "cell_type": "code",
      "metadata": {
        "id": "jI19GVb_lfzQ",
        "outputId": "907bcd3c-5fd7-4f12-ec14-ce045c49e911",
        "colab": {
          "base_uri": "https://localhost:8080/"
        }
      },
      "source": [
        "word_frequency(file_name, \"sweets\")"
      ],
      "execution_count": 14,
      "outputs": [
        {
          "output_type": "execute_result",
          "data": {
            "text/plain": [
              "0.033961623365596876"
            ]
          },
          "metadata": {
            "tags": []
          },
          "execution_count": 14
        }
      ]
    }
  ]
}