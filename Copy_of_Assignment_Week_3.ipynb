{
  "nbformat": 4,
  "nbformat_minor": 0,
  "metadata": {
    "colab": {
      "name": "Copy of Assignment Week 3.ipynb",
      "provenance": [],
      "collapsed_sections": [],
      "include_colab_link": true
    },
    "kernelspec": {
      "name": "python3",
      "display_name": "Python 3"
    }
  },
  "cells": [
    {
      "cell_type": "markdown",
      "metadata": {
        "id": "view-in-github",
        "colab_type": "text"
      },
      "source": [
        "<a href=\"https://colab.research.google.com/github/sarahem18/Python_Assignments/blob/master/Copy_of_Assignment_Week_3.ipynb\" target=\"_parent\"><img src=\"https://colab.research.google.com/assets/colab-badge.svg\" alt=\"Open In Colab\"/></a>"
      ]
    },
    {
      "cell_type": "markdown",
      "metadata": {
        "id": "5Hr8F8azZKy_",
        "colab_type": "text"
      },
      "source": [
        "# Assignment - Week 3 - Flow Control\n",
        "\n",
        "**PART 1 : GETTING STARTED WITH GITHUB**\n",
        "\n",
        "\n",
        "\n",
        "---\n",
        "\n",
        "\n",
        "\n",
        "In this assignment you will use what you learned from the reading and the worksheet to write your first Python programs. \n",
        "\n",
        "The first thing that I need you to do is to make a GitHub account so that you can turn in this assignment. GitHub is an online tool that is used by many computer scientists to share code and data. \n",
        "\n",
        "\n",
        "*   Go to https://www.github.com\n",
        "*   Click on the \"Sign Up\" button in the upper-right corner\n",
        "*   Fill out the form to create an account\n",
        "*   Go to https://github.com/new\n",
        "*   Create a new repository for this class\n",
        "*   Please make this repository public so that I can see your code\n",
        "*   Additionally, please click the check box to add a README file to your repository\n",
        "\n",
        "Once you have a repository, you can save files to your repository from Google Colab. To do this, go to the \"File\" menu in the corner and select \"Save a Copy in Github\". \n",
        "\n",
        "UNFORTUNATELY: Because you grabbed these instructions from My GitHub account, it wants to save back to my GitHub account (which won't work). Therefore one option is to create a new Notebook (File --> New Notebook) which you can then save to your GitHub account. \n",
        "\n",
        "(The other option is to first save a copy into Google Drive to make a new notebook that has these instructions and then since that is a new Notebook, you can save it to your GitHub account)\n",
        "\n",
        "This will require you to provide you to provide your GitHub login information to authorize Google Colab to write files into your GitHub repository. \n",
        "\n",
        "You can also put files into your GitHub repostiory without using Google Colab. You might be able to figure this out by exploring the GitHub website, but this is something that we will talk about in a future week. \n",
        "\n",
        "Finally, once you have finished the assignment and put your code in the GitHub repository, You need to go in Canvas (to the week 3 assignment page) and tell me your Github username and the name of your repository. \n",
        "\n",
        "If you have any questions about GitHub, feel free to email myself or Ellie.\n"
      ]
    },
    {
      "cell_type": "markdown",
      "metadata": {
        "id": "9e-KsmDyfOHN",
        "colab_type": "text"
      },
      "source": [
        "**PART 2 : PROGRAMMING PROBLEMS**\n",
        "\n",
        "\n",
        "\n",
        "---\n",
        "\n",
        "**REMINDER: You are encouraged to talk with your group members about the assignment, but everyone must type their own code**\n",
        "\n",
        "\n",
        "\n",
        "---\n",
        "\n",
        "Python doesn't know anything about Even numbers. I want to use Even numbers in this assignment, so I am going to write some code that allows you to ask Python the question \"Is this number Even\". \n",
        "\n",
        "When you click the button to run the next chunk of code, Python will read my definition of is_it_even and then anything that you write afterwards (down below) can use the question is_it_even and Python will understand it.\n",
        "\n",
        "Next week you will learn how to define new questions like is_it_even. \n",
        "\n"
      ]
    },
    {
      "cell_type": "code",
      "metadata": {
        "id": "lsIagqsAfwVV",
        "colab_type": "code",
        "colab": {
          "base_uri": "https://localhost:8080/",
          "height": 34
        },
        "outputId": "09300725-657f-4467-ad46-bbda98261995"
      },
      "source": [
        "def is_it_even(number):\n",
        "  if(number % 2 == 0):\n",
        "    return True\n",
        "  else:\n",
        "    return False\n",
        "\n",
        "#The code above defines the question is_it_even\n",
        "#Next I will show you an example of how to you is_it_even\n",
        "\n",
        "#When I start a line with a # symbol, Python ignores the entire line\n",
        "#I can use this feature to write comments to help you understand my code\n",
        "\n",
        "if is_it_even(5):\n",
        "  print(\"5 is an even number\")\n",
        "else:\n",
        "  print(\"5 is NOT an even number\")"
      ],
      "execution_count": null,
      "outputs": [
        {
          "output_type": "stream",
          "text": [
            "5 is NOT an even number\n"
          ],
          "name": "stdout"
        }
      ]
    },
    {
      "cell_type": "markdown",
      "metadata": {
        "id": "Hb6MWOLEfxmT",
        "colab_type": "text"
      },
      "source": [
        "0) Write a loop that prints \"Hello World\" five times\n",
        "\n",
        "1) Write code that asks the user to enter two numbers, then print out the smaller of the two numbers. (You will need an if statement to figure out which is the smallest)\n",
        "\n",
        "2) Write code that asks the user to enter three numbers, then print out the second largest of the three numbers. (This will require some cleverness with if statements!)\n",
        "\n",
        "3) Write a for loop that looks at the numbers [3, 2, 8, 9, 17, 24] and counts how many of them are even. (You will need a variable to keep count of how many even numbers you have seen. You should increase the variable by one each time the user enters an even number)\n",
        "\n",
        "4) Write a loop that asks the user to enter five numbers and prints out how many of the numbers are even. \n",
        "\n",
        "5) Write a loop that allows the user to keep entering as many numbers as they want to and then when they are done, print out how many of the numbers were even. One way to do this is to tell the user to enter -1 to signal that they are done, and then end when you see a -1. \n",
        "\n",
        "6) Write a number guessing game. You should pick a number (assign it to a varaible in your code) and then repeatedly ask the user to guess the number. Tell the user is their guess is too high or too low, and end when the user correctly guesses your number.\n",
        "\n",
        "\n",
        "\n",
        "---\n",
        "\n",
        "---\n",
        "\n",
        "**If you have time this week, you should improve your guessing game.**\n",
        "\n",
        "7) Modify your guessing game so that it counts the number of tries that it takes the user to correclty guess the number. \n",
        "\n",
        "8) It is kind of stupid to have to pick a number and write it in your code. In particular, this means that if you want to play the game more than once, you need to actually go and change the code ... Also, if the user sees your code, they will know exaclty what to guess.\n",
        "\n",
        "A better way is to have Python pick a random number. By default, Python doesn't know how to pick a random number. Fortunately, someone already put together an explanation of how to pick random numbers, we can add this new capability to Python by \"importing\" the instructions that someone else wrote.\n",
        "\n",
        "I have code down below that shows you how to import the random number instructions and then how to ask Python to pick a random number.\n",
        "\n",
        "---\n",
        "\n",
        "--- \n",
        "\n",
        "**I don't expect you to get this next one, but it is a nice problem if you are looking to challenge yourself.**\n",
        "\n",
        "9) You could modify your guessing game to say \"getting closer\" or \"getting further away\" (i.e., \"warmer\" or \"colder\") instead of \"Too High\" or \"Too Low\"\n",
        "\n",
        "In order to do this you would need to remember how far away the last guess was (in a new variable). You can then compare how far away the new guess is with how far away the old guess was ... This will allow you to tell the user whether they are getting closer to the correct number, or if they are getting further away.\n"
      ]
    },
    {
      "cell_type": "code",
      "metadata": {
        "id": "QnMxv9iuFyMG",
        "colab_type": "code",
        "colab": {}
      },
      "source": [
        "#These instructions pick a random number\n",
        "#The random.randint command does the hard work\n",
        "#The two numbers in the parentheses are the lower bound and upper bound\n",
        "#So in this example, Python will pick a number between 1 and 100\n",
        "\n",
        "#Run this multiple times (using the Arrow Button on the left) and you will get different numbers\n",
        "\n",
        "import random\n",
        "X = random.randint(1,100)\n",
        "print(X)"
      ],
      "execution_count": null,
      "outputs": []
    },
    {
      "cell_type": "code",
      "metadata": {
        "id": "aHvro65PGp0J",
        "colab_type": "code",
        "colab": {
          "base_uri": "https://localhost:8080/",
          "height": 102
        },
        "outputId": "dfcbc31c-6369-429a-c8e4-a625604ddf77"
      },
      "source": [
        "#0\n",
        "for i in range(5):\n",
        "  print(\"Hello world\")"
      ],
      "execution_count": 1,
      "outputs": [
        {
          "output_type": "stream",
          "text": [
            "Hello world\n",
            "Hello world\n",
            "Hello world\n",
            "Hello world\n",
            "Hello world\n"
          ],
          "name": "stdout"
        }
      ]
    },
    {
      "cell_type": "code",
      "metadata": {
        "id": "qUmfJ3maYDv9",
        "colab_type": "code",
        "colab": {
          "base_uri": "https://localhost:8080/",
          "height": 68
        },
        "outputId": "6c5fd690-7ef5-42d6-feca-15ddb5cfa4ba"
      },
      "source": [
        "#1\n",
        "num1 = input(\"Choose a number:\")\n",
        "num2 = input(\"Choose another number:\")\n",
        "if num1 < num2:\n",
        "  print(num1)\n",
        "else:\n",
        "  print(num2)"
      ],
      "execution_count": 2,
      "outputs": [
        {
          "output_type": "stream",
          "text": [
            "Choose a number:62\n",
            "Choose another number:96\n",
            "62\n"
          ],
          "name": "stdout"
        }
      ]
    },
    {
      "cell_type": "code",
      "metadata": {
        "id": "4TRMqdiAYe4b",
        "colab_type": "code",
        "colab": {
          "base_uri": "https://localhost:8080/",
          "height": 85
        },
        "outputId": "dd8a30b5-bb3b-4308-aaec-a69bef08c822"
      },
      "source": [
        "#2\n",
        "num1 = int(input(\"pick a number\"))\n",
        "num2 = int(input(\"pick a number\"))\n",
        "num3 = int(input(\"pick a number\"))\n",
        "if num1 > num2:\n",
        "  if num1 < num3:\n",
        "    print(num1)\n",
        "if num1 > num3:\n",
        "  if num1 < num2:\n",
        "    print(num1)\n",
        "if num2 > num1:\n",
        "  if num2 < num3:\n",
        "    print(num2)\n",
        "if num2>num3:\n",
        "  if num2<num1:\n",
        "    print(num2)\n",
        "if num3>num1:\n",
        "  if num3<num2:\n",
        "    print(num3)\n",
        "if num3>num2:\n",
        "  if num3<num1:\n",
        "    print(num3)"
      ],
      "execution_count": 3,
      "outputs": [
        {
          "output_type": "stream",
          "text": [
            "pick a number9\n",
            "pick a number5\n",
            "pick a number7\n",
            "7\n"
          ],
          "name": "stdout"
        }
      ]
    },
    {
      "cell_type": "code",
      "metadata": {
        "id": "5ZeEReKqY-d_",
        "colab_type": "code",
        "colab": {
          "base_uri": "https://localhost:8080/",
          "height": 34
        },
        "outputId": "02307b1e-f22e-4118-c2f5-c22a9df31513"
      },
      "source": [
        "#3\n",
        "numbers = 3, 2, 8, 9, 17, 24\n",
        "count = 0\n",
        "for i in numbers:\n",
        "  if i % 2 == 0:\n",
        "    count = count + 1\n",
        "print(count)\n"
      ],
      "execution_count": 4,
      "outputs": [
        {
          "output_type": "stream",
          "text": [
            "3\n"
          ],
          "name": "stdout"
        }
      ]
    },
    {
      "cell_type": "code",
      "metadata": {
        "id": "leQg19reY_q-",
        "colab_type": "code",
        "colab": {
          "base_uri": "https://localhost:8080/",
          "height": 119
        },
        "outputId": "97525dbe-a692-41a6-bb49-91db334c84bf"
      },
      "source": [
        "#4\n",
        "count = 0\n",
        "for i in range(5):\n",
        "  choice = int(input(\"Pick a number\"))\n",
        "  if choice % 2 == 0:\n",
        "    count = count + 1\n",
        "print(count)"
      ],
      "execution_count": 5,
      "outputs": [
        {
          "output_type": "stream",
          "text": [
            "Pick a number37\n",
            "Pick a number31\n",
            "Pick a number74\n",
            "Pick a number32\n",
            "Pick a number84\n",
            "3\n"
          ],
          "name": "stdout"
        }
      ]
    },
    {
      "cell_type": "code",
      "metadata": {
        "id": "Wdc6JrqZZAUK",
        "colab_type": "code",
        "colab": {
          "base_uri": "https://localhost:8080/",
          "height": 153
        },
        "outputId": "16466735-432a-4df6-cfd3-374641bba2ca"
      },
      "source": [
        "#5\n",
        "count = 0\n",
        "print(\"Enter -1 to stop.\")\n",
        "while True:\n",
        "  pickNum = int(input(\"Pick a number:\"))\n",
        "  if pickNum % 2 == 0:\n",
        "    count = count + 1\n",
        "  if pickNum == -1:\n",
        "    break\n",
        "print(count)\n"
      ],
      "execution_count": 6,
      "outputs": [
        {
          "output_type": "stream",
          "text": [
            "Enter -1 to stop.\n",
            "Pick a number:64\n",
            "Pick a number:58\n",
            "Pick a number:31\n",
            "Pick a number:67\n",
            "Pick a number:43\n",
            "Pick a number:-1\n",
            "2\n"
          ],
          "name": "stdout"
        }
      ]
    },
    {
      "cell_type": "code",
      "metadata": {
        "id": "QcYYRUPUk5kd",
        "colab_type": "code",
        "colab": {
          "base_uri": "https://localhost:8080/",
          "height": 136
        },
        "outputId": "9a835c1a-774f-44a1-9381-466b33837878"
      },
      "source": [
        "#6\n",
        "x = 8\n",
        "print(\"I'm thinking of a number between 1 and 10\")\n",
        "for guessesTaken in range(10):\n",
        "  guess = int(input(\"Take a guess\"))\n",
        "  if guess < x:\n",
        "    print(\"Your guess is too low.\")\n",
        "  elif guess > x:\n",
        "    print(\"Your guess is too high.\")\n",
        "  else:\n",
        "      break\n",
        "if guess == x:\n",
        "  print(\"Congratulations, you guessed it.\")"
      ],
      "execution_count": 7,
      "outputs": [
        {
          "output_type": "stream",
          "text": [
            "I'm thinking of a number between 1 and 10\n",
            "Take a guess5\n",
            "Your guess is too low.\n",
            "Take a guess9\n",
            "Your guess is too high.\n",
            "Take a guess8\n",
            "Congratulations, you guessed it.\n"
          ],
          "name": "stdout"
        }
      ]
    },
    {
      "cell_type": "code",
      "metadata": {
        "id": "gikiM0A7ZCGl",
        "colab_type": "code",
        "colab": {
          "base_uri": "https://localhost:8080/",
          "height": 119
        },
        "outputId": "ebf68b36-ef5f-4413-9688-4ab51cf9d739"
      },
      "source": [
        "#7\n",
        "x = 4\n",
        "count = 0\n",
        "for guessesTaken in range(10):\n",
        "  guess = int(input(\"I'm thinking of a number between 1 and 10. Take a guess:\"))\n",
        "  count = count + 1\n",
        "  if guess < x:\n",
        "    print(\"Your guess is too low. Guess again.\")\n",
        "  elif guess > x:\n",
        "    print(\"Your guess is too high. Guess again.\")\n",
        "  else:\n",
        "      break\n",
        "if guess == x:\n",
        "  print(\"Congratulations, you guessed it in \" + str(count) + \" tries.\")"
      ],
      "execution_count": 8,
      "outputs": [
        {
          "output_type": "stream",
          "text": [
            "I'm thinking of a number between 1 and 10. Take a guess:2\n",
            "Your guess is too low. Guess again.\n",
            "I'm thinking of a number between 1 and 10. Take a guess:77\n",
            "Your guess is too high. Guess again.\n",
            "I'm thinking of a number between 1 and 10. Take a guess:4\n",
            "Congratulations, you guessed it in 3 tries.\n"
          ],
          "name": "stdout"
        }
      ]
    },
    {
      "cell_type": "code",
      "metadata": {
        "id": "OIIG7tySZCtQ",
        "colab_type": "code",
        "colab": {
          "base_uri": "https://localhost:8080/",
          "height": 170
        },
        "outputId": "5bba12d8-4b7b-4800-b1bc-e8079d1f6cf2"
      },
      "source": [
        "#8\n",
        "import random\n",
        "x = random.randint(1, 10)\n",
        "print(\"I'm thinking of a number between 1 and 10\")\n",
        "for guessesTaken in range(10):\n",
        "  guess = int(input(\"Take a guess\"))\n",
        "  if guess < x:\n",
        "    print(\"Your guess is too low.\")\n",
        "  elif guess > x:\n",
        "    print(\"Your guess is too high.\")\n",
        "  else:\n",
        "      break\n",
        "if guess == x:\n",
        "  print(\"Congratulations, you guessed it.\")"
      ],
      "execution_count": 9,
      "outputs": [
        {
          "output_type": "stream",
          "text": [
            "I'm thinking of a number between 1 and 10\n",
            "Take a guess6\n",
            "Your guess is too high.\n",
            "Take a guess4\n",
            "Your guess is too high.\n",
            "Take a guess2\n",
            "Your guess is too low.\n",
            "Take a guess3\n",
            "Congratulations, you guessed it.\n"
          ],
          "name": "stdout"
        }
      ]
    }
  ]
}