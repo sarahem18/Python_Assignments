{
  "nbformat": 4,
  "nbformat_minor": 0,
  "metadata": {
    "colab": {
      "name": "Week 5 Assignment",
      "provenance": [],
      "collapsed_sections": [],
      "include_colab_link": true
    },
    "kernelspec": {
      "name": "python3",
      "display_name": "Python 3"
    }
  },
  "cells": [
    {
      "cell_type": "markdown",
      "metadata": {
        "id": "view-in-github",
        "colab_type": "text"
      },
      "source": [
        "<a href=\"https://colab.research.google.com/github/sarahem18/Python_Assignments/blob/master/Week_5_Assignment.ipynb\" target=\"_parent\"><img src=\"https://colab.research.google.com/assets/colab-badge.svg\" alt=\"Open In Colab\"/></a>"
      ]
    },
    {
      "cell_type": "markdown",
      "metadata": {
        "id": "o2JQvFkIT-sn",
        "colab_type": "text"
      },
      "source": [
        "# WEEK 5 ASSIGNMENT : Days of the Week\n",
        "\n",
        "----------------\n",
        "\n",
        "In this assignment, I am going to ask you to do something fairly large and complex. In particular, I want you to write Python code that takes in a day of the year (like June 3rd) and figure out what day of the week that falls on. \n",
        "\n",
        "I am going to take you step-by-step through my problem solving approach for this type of problem you can see how computer scientists approach larger problems in small pieces. \n",
        "\n",
        "Note: I realize that this assignment has quite a bit of typing involved. There are ways to reduce the amount of typing, but they require concepts that we haven't covered yet.\n",
        "\n",
        "---------\n",
        "\n",
        "**1)** New year's Day in 2020 was on a Wednesday. So we are going to call Wednesday the first day of the week, Thursday the second day of the week, Friday the third day of the week, and so on. \n",
        "\n",
        "Write a Python function called **day_of_the_week** that takes in a number (between one and seven) and returns a string containing the name of the day. \n",
        "\n",
        "So **day_of_the_week(1)** should return \"Wednesday\" and **day_of_the_week(3)** should return Friday. \n",
        "\n",
        "If you have done this correctly, then the following code should print \"Tuesday\" and then \"Sunday\"."
      ]
    },
    {
      "cell_type": "code",
      "metadata": {
        "id": "5Sf5MQj_YxZ1",
        "colab_type": "code",
        "colab": {}
      },
      "source": [
        "# function to print day\n",
        "def day_of_the_week(number_of_day):\n",
        "  if number_of_day == 1:\n",
        "    return \"Wednesday\"\n",
        "  if number_of_day == 2:\n",
        "    return \"Thursday\"\n",
        "  if number_of_day == 3:\n",
        "    return \"Friday\"\n",
        "  if number_of_day == 4:\n",
        "    return \"Saturday\"\n",
        "  if number_of_day == 5:\n",
        "    return \"Sunday\"\n",
        "  if number_of_day == 6:\n",
        "    return \"Monday\"\n",
        "  if number_of_day == 7:\n",
        "    return \"Tuesday\""
      ],
      "execution_count": null,
      "outputs": []
    },
    {
      "cell_type": "code",
      "metadata": {
        "id": "oCpMsMP9KS_V",
        "colab_type": "code",
        "colab": {
          "base_uri": "https://localhost:8080/",
          "height": 51
        },
        "outputId": "0c6c24a7-f6c2-437e-b495-315b7633eda9"
      },
      "source": [
        "#This should print \"Tuesday\"\n",
        "print(\"The 7th day of the week is\", day_of_the_week(7))\n",
        "\n",
        "#This should print \"Sunday\"\n",
        "print(\"The 5th day of the week is\", day_of_the_week(5))"
      ],
      "execution_count": null,
      "outputs": [
        {
          "output_type": "stream",
          "text": [
            "The 7th day of the week is Tuesday\n",
            "The 5th day of the week is Sunday\n"
          ],
          "name": "stdout"
        }
      ]
    },
    {
      "cell_type": "markdown",
      "metadata": {
        "id": "9ggyt4xHKn1i",
        "colab_type": "text"
      },
      "source": [
        "**2)** Okay, let's start by looking at the days of January. \n",
        "\n",
        "Write a function, **january_day** that takes in a number let's call it **day_number** and returns the day of the week that day falls on in January 2020. \n",
        "\n",
        "So **january_day(1)** returns \"Wednesday\" and **january_day(31)** returns Friday. Note: For now, don't worry about what your function does if it gets an input larger than 31. \n",
        "\n",
        "A good approach for writing this function is the following. First observe that subtracting 7 from the day doesn't change the answer. That is, the 17th of January, the 10th of January and the 3rd all fall on the same day of the week.\n",
        "\n",
        "Therefore, you can take your input, repeatedly substract 7 until you get down to a number between one and seven. Then use **day_of_the_week** (which you already wrote) to transform the number between one and seven into a day of the week. \n",
        "\n",
        "Computer Scientists love transforming a problem into something that has already been solved! So first your write **day_of_the_week** that handles numbers between one and seven and then you write **january_day** that makes use of **day_of_the_week** to handle numbers between one and thirty-one.\n",
        "\n",
        "Here is a small amount of code for testing to see if **january_day** is working properly:"
      ]
    },
    {
      "cell_type": "code",
      "metadata": {
        "id": "P384uwchaRDN",
        "colab_type": "code",
        "colab": {}
      },
      "source": [
        "# function to print day \n",
        "def january_day(day_number):\n",
        "  answer = day_number\n",
        "  while answer > 7:\n",
        "    answer = answer - 7\n",
        "  return day_of_the_week(answer)"
      ],
      "execution_count": null,
      "outputs": []
    },
    {
      "cell_type": "code",
      "metadata": {
        "id": "NPxl0U8PNceh",
        "colab_type": "code",
        "colab": {
          "base_uri": "https://localhost:8080/",
          "height": 68
        },
        "outputId": "0e5c5f25-b94c-48c4-da18-35dbace87c49"
      },
      "source": [
        "#This should print \"Wednesday\"\n",
        "print(\"The 1st Day of January is\", january_day(1))\n",
        "\n",
        "#This should print \"Thursday\"\n",
        "print(\"The 30th day in January is\", january_day(30))\n",
        "\n",
        "#This should print \"Saturday\" (I'm proceeding w the assumption that this is a typo as the 19th day is actually Sunday)\n",
        "print(\"The 19th day in January is\", january_day(19))"
      ],
      "execution_count": null,
      "outputs": [
        {
          "output_type": "stream",
          "text": [
            "The 1st Day of January is Wednesday\n",
            "The 30th day in January is Thursday\n",
            "The 19th day in January is Sunday\n"
          ],
          "name": "stdout"
        }
      ]
    },
    {
      "cell_type": "markdown",
      "metadata": {
        "id": "Zbgpn3MFOKaU",
        "colab_type": "text"
      },
      "source": [
        "**3)** So the approach that you used in january_day can actually work perfectly well for numbers bigger than 31. If I ask you \"What is the day of the week for the 271st day of 2020?\" the approach that you used to write january_day should work to find the day of the week for the 271st day of 2020. \n",
        "\n",
        "Write a new function  **number_to_day** that takes in a number (lets call it **X**) and returns the day of the week for the number **X** day of 2020. \n",
        "\n",
        "So **number_to_day(1)** should return \"Wednesday\" because the first day of the year was a Wednesday, and **number_to_day(60)** should return \"Saturday\" because the 60th day of the year (February 29th) was on a Saturday. "
      ]
    },
    {
      "cell_type": "code",
      "metadata": {
        "id": "3Z5YpdhEffli",
        "colab_type": "code",
        "colab": {}
      },
      "source": [
        "def number_to_day(X):\n",
        "  dayNum = X\n",
        "  while dayNum > 7:\n",
        "    dayNum = dayNum - 7\n",
        "  return day_of_the_week(dayNum)"
      ],
      "execution_count": 39,
      "outputs": []
    },
    {
      "cell_type": "code",
      "metadata": {
        "id": "9DQgXkloQjJs",
        "colab_type": "code",
        "colab": {
          "base_uri": "https://localhost:8080/",
          "height": 68
        },
        "outputId": "13e0c876-0233-4910-eafa-ae9bcfc9b00e"
      },
      "source": [
        "#This should print \"Wednesday\"\n",
        "print(\"The 1st Day of 2020 is\", number_to_day(1))\n",
        "\n",
        "#This should print \"Saturday\"\n",
        "print(\"The 19th day in 2020 is\", number_to_day(19))\n",
        "\n",
        "#This should print \"Thursday\"\n",
        "print(\"The 100th day in 2020 is\", number_to_day(100))"
      ],
      "execution_count": 40,
      "outputs": [
        {
          "output_type": "stream",
          "text": [
            "The 1st Day of 2020 is Wednesday\n",
            "The 19th day in 2020 is Sunday\n",
            "The 100th day in 2020 is Thursday\n"
          ],
          "name": "stdout"
        }
      ]
    },
    {
      "cell_type": "markdown",
      "metadata": {
        "id": "-D3v4KPkRFQl",
        "colab_type": "text"
      },
      "source": [
        "**4)** So our ultimate goal is to figure out the day of the week given the month and the day (e.g., \"Feburary\" and 29). If we can figure out the number that corresponds to a day like April 9th or February 29th then we just use **number_to_day** and we are done. \n",
        "\n",
        "So the key challenge that is left is figuring out the number for a particular month day combination. That is, how do we figure out that February 29th is the 60th day of the year and April 9th is the 100th day of the year. \n",
        "\n",
        "This is a bit messy, so let's start with just January and February. Also, I think this will be a bit easier if we use Month numbers, instead of month names.\n",
        "\n",
        "Write a function **month_day_to_number** that takes in two integers (let's call them **month_num** and **day_num**) representing a month/day cominbation in 2020 and returns the answer to the question: \"How many days into 2020 is this month/day combination?\"\n",
        "\n",
        "So **month_day_to_number(1, 1)** returns 1 ... because (1,1) corresponds to January 1st which is the 1st day of 2020.\n",
        "\n",
        "**month_day_to_number(1, 30)** returns 30 ... because (1, 30) correponds to January 30th which is the 30th day of 2020. \n",
        "\n",
        "**month_day_to_number(2, 29)** returns 60 ... because (2, 29) corresponds to February 29th which is the 60th day of 2020. \n",
        "\n",
        "Writing the whole function is going to be tricky, so let's just start with January and February -- Months 1 and 2.\n",
        "\n",
        "If the month is 1 (which means January) then your answer is just the day number in January. If the month is greater than 1 (beyond January) than you want to add 31 to your answer ... January has thirty-one days so you add 31 to the day_num for days beyond January. "
      ]
    },
    {
      "cell_type": "code",
      "metadata": {
        "id": "-gMBzTmMgyU4",
        "colab_type": "code",
        "colab": {}
      },
      "source": [
        "# print how far into 2020\n",
        "def month_day_to_number(month_num, day_num):\n",
        "  if month_num == 1:\n",
        "    return day_num\n",
        "  else:\n",
        "    day_num = day_num + 31\n",
        "  return day_num"
      ],
      "execution_count": 50,
      "outputs": []
    },
    {
      "cell_type": "code",
      "metadata": {
        "id": "iFa7A7IWTwqP",
        "colab_type": "code",
        "colab": {
          "base_uri": "https://localhost:8080/",
          "height": 68
        },
        "outputId": "44e6a4a3-b59e-4de7-85b8-ac735c0f528f"
      },
      "source": [
        "#This should print 1\n",
        "print(\"January 1st is the number\", month_day_to_number(1,1), \"day of 2020\")\n",
        "\n",
        "#This should print 30\n",
        "print(\"January 30th is the number\", month_day_to_number(1,30), \"day of 2020\")\n",
        "\n",
        "#This should print 60\n",
        "print(\"February 29th is the number\", month_day_to_number(2,29), \"day of 2020\")"
      ],
      "execution_count": 51,
      "outputs": [
        {
          "output_type": "stream",
          "text": [
            "January 1st is the number 1 day of 2020\n",
            "January 30th is the number 30 day of 2020\n",
            "February 29th is the number 60 day of 2020\n"
          ],
          "name": "stdout"
        }
      ]
    },
    {
      "cell_type": "markdown",
      "metadata": {
        "id": "OXTLBRwFUJnp",
        "colab_type": "text"
      },
      "source": [
        "**4)** Okay, now let's make **month_day_to_number** work beyond February.\n",
        "\n",
        "My advice is to make a sequence of if statements. If the **month_num** is greater than 1, then add 31 days for January.\n",
        "\n",
        "If the **month_num** is greater than 2, then add 29 days for February. (If the number is greater than 2, than it is also greater than 1 and so your previous if statement should have already added in the 31 days for January into your answer) \n",
        "\n",
        "If the **month_num** is greater than 3, then add 30 days for March ... and so forth. \n",
        "\n",
        "This is going to require about 12 if statements. I would recommend that you add an if statement and then test, then add an if statement and test. Testing frequently is really helpful to make sure that things are working the way you want them to. Here are some test statements that might help. \n",
        "\n",
        "Also, this website might be helpful for testing: https://www.epochconverter.com/days/2020"
      ]
    },
    {
      "cell_type": "code",
      "metadata": {
        "id": "AzXN9I7giBax",
        "colab_type": "code",
        "colab": {}
      },
      "source": [
        "def month_day_to_num(month_num, day_num):\n",
        "  if month_num == 1:\n",
        "    return day_num\n",
        "  if month_num > 1:\n",
        "    day_num = day_num + 31\n",
        "  if month_num > 2:\n",
        "    day_num = day_num + 29\n",
        "  if month_num > 3:\n",
        "    day_num = day_num + 31\n",
        "  if month_num > 4:\n",
        "    day_num = day_num + 30\n",
        "  if month_num > 5:\n",
        "    day_num = day_num + 31\n",
        "  if month_num > 6:\n",
        "    day_num = day_num + 30\n",
        "  if month_num > 7:\n",
        "    day_num = day_num + 31\n",
        "  if month_num > 8:\n",
        "    day_num = day_num + 31\n",
        "  if month_num > 9:\n",
        "    day_num = day_num + 30\n",
        "  if month_num > 10:\n",
        "    day_num = day_num + 31\n",
        "  if month_num > 11:\n",
        "    day_num = day_num + 30\n",
        "  return day_num"
      ],
      "execution_count": 85,
      "outputs": []
    },
    {
      "cell_type": "code",
      "metadata": {
        "id": "GXrXX6geimyw",
        "colab_type": "code",
        "colab": {
          "base_uri": "https://localhost:8080/",
          "height": 34
        },
        "outputId": "e0c130c2-db98-4c9f-e5ff-6db80d60ea39"
      },
      "source": [
        "month_day_to_num(12, 31)"
      ],
      "execution_count": 86,
      "outputs": [
        {
          "output_type": "execute_result",
          "data": {
            "text/plain": [
              "366"
            ]
          },
          "metadata": {
            "tags": []
          },
          "execution_count": 86
        }
      ]
    },
    {
      "cell_type": "markdown",
      "metadata": {
        "id": "nXhUmJ9AVqV8",
        "colab_type": "text"
      },
      "source": [
        "**5)** It would be nice if we could use the name of the month as well. \n",
        "\n",
        "Let's write a function, call it **month_to_num** that converts the name of the month into a month number. \n",
        "\n",
        "So **month_to_num(\"April\")** returns 4 and **month_to_num(\"October\")** returns 10. \n",
        "\n",
        "This will require 12 if statements, but it should be pretty easy to write. \n"
      ]
    },
    {
      "cell_type": "code",
      "metadata": {
        "id": "SoD0PF2Uj1XZ",
        "colab_type": "code",
        "colab": {}
      },
      "source": [
        "def month_to_num(name_of_month):\n",
        "  if name_of_month == \"January\":\n",
        "    return 1\n",
        "  if name_of_month == \"February\":\n",
        "    return 2\n",
        "  if name_of_month == \"March\":\n",
        "    return 3\n",
        "  if name_of_month == \"April\":\n",
        "    return 4\n",
        "  if name_of_month == \"May\":\n",
        "    return 5\n",
        "  if name_of_month == \"June\":\n",
        "    return 6\n",
        "  if name_of_month == \"July\":\n",
        "    return 7\n",
        "  if name_of_month == \"August\":\n",
        "    return 8\n",
        "  if name_of_month == \"September\":\n",
        "    return 9\n",
        "  if name_of_month == \"October\":\n",
        "    return 10\n",
        "  if name_of_month == \"November\":\n",
        "    return 11\n",
        "  if name_of_month == \"December\":\n",
        "    return 12"
      ],
      "execution_count": 76,
      "outputs": []
    },
    {
      "cell_type": "code",
      "metadata": {
        "id": "PfI0FpXoWATq",
        "colab_type": "code",
        "colab": {
          "base_uri": "https://localhost:8080/",
          "height": 51
        },
        "outputId": "5fb2256f-e5f1-4893-941a-90ba509ec664"
      },
      "source": [
        "#This should print 3\n",
        "print(\"March is the number\", month_to_num(\"March\"), \"month of the year\")\n",
        "\n",
        "#This should print 11\n",
        "print(\"November is the number\", month_to_num(\"November\"), \"month of the year\")"
      ],
      "execution_count": 77,
      "outputs": [
        {
          "output_type": "stream",
          "text": [
            "March is the number 3 month of the year\n",
            "November is the number 11 month of the year\n"
          ],
          "name": "stdout"
        }
      ]
    },
    {
      "cell_type": "markdown",
      "metadata": {
        "id": "sPqURx5NWgG4",
        "colab_type": "text"
      },
      "source": [
        "**6)** Okay, let's put all the pieces together. \n",
        "\n",
        "Write a function called, **what_day_of_the_week** that takes in two inputs, a month and a day and returns the day of the week for that date. \n",
        "\n",
        "**what_day_of_the_week(\"April\", 27)** should return Monday and **what_day_of_the_week(\"November\", 13)** should return Friday.\n",
        "\n",
        "To make this function, you should use what you have already done to convert the month name into a number, then use **month_day_to_number** to figure out how many days have passed since the beginning of the year, then use **number_to_day** to figure out the day of the week. "
      ]
    },
    {
      "cell_type": "code",
      "metadata": {
        "id": "2BJ7xhxKl0kt",
        "colab_type": "code",
        "colab": {}
      },
      "source": [
        "def what_day_of_the_week(name_of_month, day_num):\n",
        "  month_number = month_to_num(name_of_month)\n",
        "  days_passed = month_day_to_num(month_number, day_num)\n",
        "  day_of_week = number_to_day(days_passed)\n",
        "  return day_of_week"
      ],
      "execution_count": 87,
      "outputs": []
    },
    {
      "cell_type": "code",
      "metadata": {
        "id": "ayWzKGqUXc9N",
        "colab_type": "code",
        "colab": {
          "base_uri": "https://localhost:8080/",
          "height": 68
        },
        "outputId": "c3ef7a29-6439-4dd6-d0d1-186be422bf6b"
      },
      "source": [
        "#This should print \"Monday\"\n",
        "print(\"September 21st, 2020 is a\", what_day_of_the_week(\"September\", 21))\n",
        "\n",
        "#This should print \"Saturday\"\n",
        "print(\"October 31st, 2020 is a\", what_day_of_the_week(\"October\", 31))\n",
        "\n",
        "#This should print \"Thursday\"\n",
        "print(\"November 26th, 2020 is a\", what_day_of_the_week(\"November\", 26))"
      ],
      "execution_count": 92,
      "outputs": [
        {
          "output_type": "stream",
          "text": [
            "September 21st, 2020 is a Monday\n",
            "October 31st, 2020 is a Saturday\n",
            "November 26th, 2020 is a Thursday\n"
          ],
          "name": "stdout"
        }
      ]
    },
    {
      "cell_type": "code",
      "metadata": {
        "id": "1nMa3KBgnXUz",
        "colab_type": "code",
        "colab": {
          "base_uri": "https://localhost:8080/",
          "height": 37
        },
        "outputId": "3db5bef4-2281-432a-92fe-23a2e2805bca"
      },
      "source": [
        "what_day_of_the_week(\"May\", 15)"
      ],
      "execution_count": 90,
      "outputs": [
        {
          "output_type": "execute_result",
          "data": {
            "application/vnd.google.colaboratory.intrinsic+json": {
              "type": "string"
            },
            "text/plain": [
              "'Friday'"
            ]
          },
          "metadata": {
            "tags": []
          },
          "execution_count": 90
        }
      ]
    },
    {
      "cell_type": "markdown",
      "metadata": {
        "id": "iO-c9DvAX7BZ",
        "colab_type": "text"
      },
      "source": [
        "Congratulations! If you have made it this far, you can figure out what \n",
        "\n",
        "--------\n",
        "\n",
        "--------\n",
        "\n",
        "I don't expect you to go any further, but if you have additional time, could you figure out the days of the week for 2021? \n",
        "\n",
        "Can you write a function that takes in three inputs \"October\", 31, 2021 and returns the day of the week for October, 31 in 2021.\n",
        "\n",
        "It would be challenging to make this work for absolutely any year, but could you make it work for say years between 2021 and 2025?"
      ]
    }
  ]
}