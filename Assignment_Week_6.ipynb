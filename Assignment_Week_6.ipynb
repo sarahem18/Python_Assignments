{
  "nbformat": 4,
  "nbformat_minor": 0,
  "metadata": {
    "colab": {
      "name": "Assignment Week 6.ipynb",
      "provenance": [],
      "collapsed_sections": [],
      "include_colab_link": true
    },
    "kernelspec": {
      "name": "python3",
      "display_name": "Python 3"
    }
  },
  "cells": [
    {
      "cell_type": "markdown",
      "metadata": {
        "id": "view-in-github",
        "colab_type": "text"
      },
      "source": [
        "<a href=\"https://colab.research.google.com/github/sarahem18/Python_Assignments/blob/master/Assignment_Week_6.ipynb\" target=\"_parent\"><img src=\"https://colab.research.google.com/assets/colab-badge.svg\" alt=\"Open In Colab\"/></a>"
      ]
    },
    {
      "cell_type": "markdown",
      "metadata": {
        "id": "OmbYt8lDcUhp"
      },
      "source": [
        "# WEEK 6 ASSIGNMENT : Introduction to Lists\n",
        "\n",
        "----------------\n",
        "\n",
        "Due to the exam, the assignment this week is a bit shorter than ussual. \n",
        "\n",
        "You are encouraged to create a new blank workbook for your solutions. You should then save your solutions into GitHub.\n",
        "\n",
        "**0)** Create a list that contains \"Hello\" and \"World\". Write a program that prints out this list. \n",
        "\n",
        "**1)** Create a program that starts with an empty list and then uses a while loop to repeatedly ask the user to enter the name of a food. The program should add each food to the list. The program should stop when the user enters \"stop\".\n",
        "\n",
        "Note: There is an example similar to this in the worksheet.\n",
        "\n",
        "**2)** Use the list that you created in Problem 2. Write additional Python instructions that ask the user to enter a food to delete from the list. You should then delete the requested food from the list and print the list.\n",
        "\n",
        "**3)** Use the list that you created in Problem 2. Write a loop that goes through every element of the list checks whether the food is \"olives\" (or \"olive\") and prints out the food name provided that it is not \"olives\". (I despise \"olives\", wouldn't want to print out that stuff!)\n",
        "\n",
        "To test out your program, you may need to re-run the code from Problem 2 to create a list that contains \"olives\" so you can verify that your code for Problem 4 correctly omits \"olives\" when printing the list.  \n"
      ]
    },
    {
      "cell_type": "code",
      "metadata": {
        "id": "4_iRiDv_QA4L",
        "outputId": "440417ae-fbc0-4336-9041-dda57c02a9b8",
        "colab": {
          "base_uri": "https://localhost:8080/",
          "height": 34
        }
      },
      "source": [
        "hello = ['hello', 'world']\n",
        "hello"
      ],
      "execution_count": 7,
      "outputs": [
        {
          "output_type": "execute_result",
          "data": {
            "text/plain": [
              "['hello', 'world']"
            ]
          },
          "metadata": {
            "tags": []
          },
          "execution_count": 7
        }
      ]
    },
    {
      "cell_type": "code",
      "metadata": {
        "id": "oCOm9tL1Q-cd",
        "outputId": "c9e4e59a-699a-4890-fb3c-29e17a63e436",
        "colab": {
          "base_uri": "https://localhost:8080/",
          "height": 119
        }
      },
      "source": [
        "foods = []\n",
        "foodName = input(\"Enter a food, or type stop to stop:\")\n",
        "while not foodName == 'stop':\n",
        "  foods.append(foodName)\n",
        "  foodName = input(\"Enter a food, or type stop to stop:\")\n",
        "print('my final list of foods is:', foods)"
      ],
      "execution_count": 57,
      "outputs": [
        {
          "output_type": "stream",
          "text": [
            "Enter a food, or type stop to stop:garlic\n",
            "Enter a food, or type stop to stop:olive\n",
            "Enter a food, or type stop to stop:hummus\n",
            "Enter a food, or type stop to stop:toast\n",
            "Enter a food, or type stop to stop:stop\n",
            "my final list of foods is: ['garlic', 'olive', 'hummus', 'toast']\n"
          ],
          "name": "stdout"
        }
      ]
    },
    {
      "cell_type": "code",
      "metadata": {
        "id": "w2iptEJITvO6",
        "outputId": "8cd27bfa-71c3-445c-e212-b235cde03862",
        "colab": {
          "base_uri": "https://localhost:8080/",
          "height": 68
        }
      },
      "source": [
        "removeFood = input(\"Enter a food to delete, or type stop to stop:\")\n",
        "while not removeFood == 'stop':\n",
        "  foods.remove(removeFood)\n",
        "  removeFood = input(\"Enter a food to delete, or type stop to stop:\")\n",
        "print('my final list of foods is:', foods)"
      ],
      "execution_count": 58,
      "outputs": [
        {
          "output_type": "stream",
          "text": [
            "Enter a food to delete, or type stop to stop:toast\n",
            "Enter a food to delete, or type stop to stop:stop\n",
            "my final list of foods is: ['garlic', 'olive', 'hummus']\n"
          ],
          "name": "stdout"
        }
      ]
    },
    {
      "cell_type": "code",
      "metadata": {
        "id": "PerHmUTIVjWD",
        "outputId": "c32c73ae-0d74-44ae-ba19-c5573aeae22a",
        "colab": {
          "base_uri": "https://localhost:8080/",
          "height": 34
        }
      },
      "source": [
        "for foodName in foods:\n",
        "  if foodName == 'olive' or foodName == 'olives':\n",
        "    foods.remove(foodName)\n",
        "print('my final list of foods is:', foods)"
      ],
      "execution_count": 68,
      "outputs": [
        {
          "output_type": "stream",
          "text": [
            "my final list of foods is: ['garlic', 'hummus']\n"
          ],
          "name": "stdout"
        }
      ]
    }
  ]
}