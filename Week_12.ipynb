{
  "nbformat": 4,
  "nbformat_minor": 0,
  "metadata": {
    "colab": {
      "name": "Week 12",
      "provenance": [],
      "collapsed_sections": [],
      "authorship_tag": "ABX9TyNfKkb2yr0vkzAKjfDwHLE6",
      "include_colab_link": true
    },
    "kernelspec": {
      "name": "python3",
      "display_name": "Python 3"
    }
  },
  "cells": [
    {
      "cell_type": "markdown",
      "metadata": {
        "id": "view-in-github",
        "colab_type": "text"
      },
      "source": [
        "<a href=\"https://colab.research.google.com/github/sarahem18/Python_Assignments/blob/master/Week_12.ipynb\" target=\"_parent\"><img src=\"https://colab.research.google.com/assets/colab-badge.svg\" alt=\"Open In Colab\"/></a>"
      ]
    },
    {
      "cell_type": "code",
      "metadata": {
        "colab": {
          "base_uri": "https://localhost:8080/"
        },
        "id": "wICi-wFogybg",
        "outputId": "4879495a-04f0-4e44-fe83-0131d41c1fc0"
      },
      "source": [
        "import pandas\n",
        "\n",
        "file_name = \"https://raw.githubusercontent.com/mlepinski/Python-Worksheets/master/states.csv\"\n",
        "state_data = pandas.read_csv(file_name)\n",
        "\n",
        "med_pop = state_data[\"Pop\"].median()\n",
        "\n",
        "print(med_pop)"
      ],
      "execution_count": 1,
      "outputs": [
        {
          "output_type": "stream",
          "text": [
            "3294394.0\n"
          ],
          "name": "stdout"
        }
      ]
    },
    {
      "cell_type": "code",
      "metadata": {
        "colab": {
          "base_uri": "https://localhost:8080/"
        },
        "id": "UO-3u260iu_y",
        "outputId": "f30f7c31-18b7-4bf6-ec1c-45918350c763"
      },
      "source": [
        "file_name = \"https://raw.githubusercontent.com/mlepinski/Python-Worksheets/master/states.csv\"\n",
        "state_data = pandas.read_csv(file_name)\n",
        "\n",
        "state_count = 0\n",
        "\n",
        "for state in state_data[\"Name\"]:\n",
        "  if state[0] == \"M\":\n",
        "    state_count += 1\n",
        "\n",
        "print(state_count)"
      ],
      "execution_count": 2,
      "outputs": [
        {
          "output_type": "stream",
          "text": [
            "8\n"
          ],
          "name": "stdout"
        }
      ]
    },
    {
      "cell_type": "code",
      "metadata": {
        "colab": {
          "base_uri": "https://localhost:8080/",
          "height": 204
        },
        "id": "EBKEertHjdVV",
        "outputId": "f4690cf4-3d41-4e22-a54a-51e92795f81b"
      },
      "source": [
        "file_name = \"https://raw.githubusercontent.com/mlepinski/Python-Worksheets/master/states.csv\"\n",
        "state_data = pandas.read_csv(file_name)\n",
        "\n",
        "state_data[\"Pop Density\"] = state_data[\"Pop\"]/state_data[\"Area\"]\n",
        "\n",
        "state_data.head()"
      ],
      "execution_count": 8,
      "outputs": [
        {
          "output_type": "execute_result",
          "data": {
            "text/html": [
              "<div>\n",
              "<style scoped>\n",
              "    .dataframe tbody tr th:only-of-type {\n",
              "        vertical-align: middle;\n",
              "    }\n",
              "\n",
              "    .dataframe tbody tr th {\n",
              "        vertical-align: top;\n",
              "    }\n",
              "\n",
              "    .dataframe thead th {\n",
              "        text-align: right;\n",
              "    }\n",
              "</style>\n",
              "<table border=\"1\" class=\"dataframe\">\n",
              "  <thead>\n",
              "    <tr style=\"text-align: right;\">\n",
              "      <th></th>\n",
              "      <th>Name</th>\n",
              "      <th>State</th>\n",
              "      <th>Area</th>\n",
              "      <th>Pop</th>\n",
              "      <th>Pop Density</th>\n",
              "    </tr>\n",
              "  </thead>\n",
              "  <tbody>\n",
              "    <tr>\n",
              "      <th>0</th>\n",
              "      <td>Alabama</td>\n",
              "      <td>AL</td>\n",
              "      <td>52423</td>\n",
              "      <td>4040587</td>\n",
              "      <td>77.076608</td>\n",
              "    </tr>\n",
              "    <tr>\n",
              "      <th>1</th>\n",
              "      <td>Alaska</td>\n",
              "      <td>AK</td>\n",
              "      <td>656424</td>\n",
              "      <td>550043</td>\n",
              "      <td>0.837939</td>\n",
              "    </tr>\n",
              "    <tr>\n",
              "      <th>2</th>\n",
              "      <td>Arizona</td>\n",
              "      <td>AZ</td>\n",
              "      <td>114006</td>\n",
              "      <td>3665228</td>\n",
              "      <td>32.149431</td>\n",
              "    </tr>\n",
              "    <tr>\n",
              "      <th>3</th>\n",
              "      <td>Arkansas</td>\n",
              "      <td>AR</td>\n",
              "      <td>53182</td>\n",
              "      <td>2350725</td>\n",
              "      <td>44.201516</td>\n",
              "    </tr>\n",
              "    <tr>\n",
              "      <th>4</th>\n",
              "      <td>California</td>\n",
              "      <td>CA</td>\n",
              "      <td>163707</td>\n",
              "      <td>29769021</td>\n",
              "      <td>181.843299</td>\n",
              "    </tr>\n",
              "  </tbody>\n",
              "</table>\n",
              "</div>"
            ],
            "text/plain": [
              "         Name State    Area       Pop  Pop Density\n",
              "0     Alabama    AL   52423   4040587    77.076608\n",
              "1      Alaska    AK  656424    550043     0.837939\n",
              "2     Arizona    AZ  114006   3665228    32.149431\n",
              "3    Arkansas    AR   53182   2350725    44.201516\n",
              "4  California    CA  163707  29769021   181.843299"
            ]
          },
          "metadata": {
            "tags": []
          },
          "execution_count": 8
        }
      ]
    },
    {
      "cell_type": "code",
      "metadata": {
        "colab": {
          "base_uri": "https://localhost:8080/"
        },
        "id": "B8x8puCVj09x",
        "outputId": "ad2fe5d7-65e0-4de2-cc2b-820a2bbd3275"
      },
      "source": [
        "file_name = \"https://raw.githubusercontent.com/mlepinski/Python-Worksheets/master/states.csv\"\n",
        "state_data = pandas.read_csv(file_name)\n",
        "\n",
        "state_data[\"Pop Density\"] = state_data[\"Pop\"]/state_data[\"Area\"]\n",
        "\n",
        "med_popDen = state_data[\"Pop Density\"].median()\n",
        "max_popDen = state_data[\"Pop Density\"].max()\n",
        "min_popDen = state_data[\"Pop Density\"].min()\n",
        "\n",
        "print(med_popDen)\n",
        "print(max_popDen)\n",
        "print(min_popDen)"
      ],
      "execution_count": 12,
      "outputs": [
        {
          "output_type": "stream",
          "text": [
            "74.68463640666269\n",
            "8925.0\n",
            "0.8379385884733038\n"
          ],
          "name": "stdout"
        }
      ]
    }
  ]
}