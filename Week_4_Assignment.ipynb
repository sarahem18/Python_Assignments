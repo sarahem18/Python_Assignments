{
  "nbformat": 4,
  "nbformat_minor": 0,
  "metadata": {
    "colab": {
      "name": "Week 4 Assignment.ipynb",
      "provenance": [],
      "collapsed_sections": [],
      "include_colab_link": true
    },
    "kernelspec": {
      "name": "python3",
      "display_name": "Python 3"
    }
  },
  "cells": [
    {
      "cell_type": "markdown",
      "metadata": {
        "id": "view-in-github",
        "colab_type": "text"
      },
      "source": [
        "<a href=\"https://colab.research.google.com/github/sarahem18/Python_Assignments/blob/master/Week_4_Assignment.ipynb\" target=\"_parent\"><img src=\"https://colab.research.google.com/assets/colab-badge.svg\" alt=\"Open In Colab\"/></a>"
      ]
    },
    {
      "cell_type": "markdown",
      "metadata": {
        "id": "ps76LskfTCG-",
        "colab_type": "text"
      },
      "source": [
        "# WEEK 4 ASSIGNMENT : Functions\n",
        "\n",
        "----------------\n",
        "\n",
        "**0)** Define (def) a Python Function that takes no input and prints \"Hello World\"\n",
        "\n",
        "**1)** Define a Python Function that prints a message of your choice five times in a row. Please do this by putting a loop inside your function. \n",
        "\n",
        "**2)** Modify your function from the previous question so that it takes a number as input which tells the function how many times to print the message. That is, you should make your function more flexible by replacing the fixed number 5 with an input that determines how many times the message is printed. \n",
        "\n",
        "**3)** Define a function called square that takes in a number and returns the square of that number. Recall that the square of a number is just the number times itself. \n",
        "\n",
        "If you have done number (3) correctly, the following Python code should print 9 and 25.\n",
        "\n"
      ]
    },
    {
      "cell_type": "code",
      "metadata": {
        "id": "XgOcosRDTdLq",
        "colab_type": "code",
        "colab": {
          "base_uri": "https://localhost:8080/",
          "height": 34
        },
        "outputId": "66fed8a6-30ad-4c76-f78b-66e3c0ab9f5a"
      },
      "source": [
        "X = square(3)\n",
        "Y= square(5)\n",
        "print(\"The answers are\", X, \"and\", Y)"
      ],
      "execution_count": null,
      "outputs": [
        {
          "output_type": "stream",
          "text": [
            "The answers are 9 and 25\n"
          ],
          "name": "stdout"
        }
      ]
    },
    {
      "cell_type": "code",
      "metadata": {
        "id": "09b0KCrO1hmM",
        "colab_type": "code",
        "colab": {}
      },
      "source": [
        "#0 function prints hello world\n",
        "def hello():\n",
        "  print(\"hello world\")"
      ],
      "execution_count": null,
      "outputs": []
    },
    {
      "cell_type": "code",
      "metadata": {
        "id": "FWu17isZ1tUa",
        "colab_type": "code",
        "colab": {
          "base_uri": "https://localhost:8080/",
          "height": 34
        },
        "outputId": "c1c06288-30e0-4b48-b8b3-6bf5a216997f"
      },
      "source": [
        "hello()"
      ],
      "execution_count": null,
      "outputs": [
        {
          "output_type": "stream",
          "text": [
            "hello world\n"
          ],
          "name": "stdout"
        }
      ]
    },
    {
      "cell_type": "code",
      "metadata": {
        "id": "EYK7nKwG1w1z",
        "colab_type": "code",
        "colab": {}
      },
      "source": [
        "#1 print msg 5x\n",
        "def montoya():\n",
        "  for i in range(5):\n",
        "    print(\"You killed my father. Prepare to die.\")"
      ],
      "execution_count": null,
      "outputs": []
    },
    {
      "cell_type": "code",
      "metadata": {
        "id": "CqJn6zbf1w-Z",
        "colab_type": "code",
        "colab": {
          "base_uri": "https://localhost:8080/",
          "height": 102
        },
        "outputId": "21e1bbdf-2041-4e1d-967f-8972b1e064cf"
      },
      "source": [
        "montoya()"
      ],
      "execution_count": null,
      "outputs": [
        {
          "output_type": "stream",
          "text": [
            "You killed my father. Prepare to die.\n",
            "You killed my father. Prepare to die.\n",
            "You killed my father. Prepare to die.\n",
            "You killed my father. Prepare to die.\n",
            "You killed my father. Prepare to die.\n"
          ],
          "name": "stdout"
        }
      ]
    },
    {
      "cell_type": "code",
      "metadata": {
        "id": "3DQRO_zr2WpI",
        "colab_type": "code",
        "colab": {}
      },
      "source": [
        "#2 print msg any given amt\n",
        "def montoya(number):\n",
        "  for i in range(number):\n",
        "    print(\"You killed my father. Prepare to die.\")"
      ],
      "execution_count": null,
      "outputs": []
    },
    {
      "cell_type": "code",
      "metadata": {
        "id": "v-ooEpnN2WvD",
        "colab_type": "code",
        "colab": {
          "base_uri": "https://localhost:8080/",
          "height": 187
        },
        "outputId": "42fe2f1d-0328-4aea-a749-c44e6abc0e79"
      },
      "source": [
        "montoya(10)"
      ],
      "execution_count": null,
      "outputs": [
        {
          "output_type": "stream",
          "text": [
            "You killed my father. Prepare to die.\n",
            "You killed my father. Prepare to die.\n",
            "You killed my father. Prepare to die.\n",
            "You killed my father. Prepare to die.\n",
            "You killed my father. Prepare to die.\n",
            "You killed my father. Prepare to die.\n",
            "You killed my father. Prepare to die.\n",
            "You killed my father. Prepare to die.\n",
            "You killed my father. Prepare to die.\n",
            "You killed my father. Prepare to die.\n"
          ],
          "name": "stdout"
        }
      ]
    },
    {
      "cell_type": "code",
      "metadata": {
        "id": "wrt8TIzz2wI0",
        "colab_type": "code",
        "colab": {}
      },
      "source": [
        "#3 square number\n",
        "def square(number):\n",
        "  answer = number*number\n",
        "  return answer"
      ],
      "execution_count": null,
      "outputs": []
    },
    {
      "cell_type": "markdown",
      "metadata": {
        "id": "Dsj0vYtxTdnS",
        "colab_type": "text"
      },
      "source": [
        "**4)**  Define a function called bigger10 that takes in a number as input and returns whichever is bigger, the number or 10. \n",
        "\n",
        "To do this problem you will need to put an if statement inside your function.\n",
        "\n",
        "bigger10(8) returns 10  ... since 10 is the larger of 10 and 8.\n",
        "\n",
        "bigger10(2) returns 10  ... since 10 is the larger of 10 and 2.\n",
        "\n",
        "bigger10(15) returns 15 ... since 15 is the larger of 10 and 15.\n",
        "\n",
        "bigger10(20) returns 20 ... since 20 is the larger of 10 and 20.\n",
        "\n",
        "**5)**  You can make a function take two inputs by putting two inputs inside the parentheses and separating them with a comma. \n",
        "\n",
        "Define a function called bigger that takes in two numbers as input and returns the bigger of the two numbers\n",
        "\n",
        "bigger(10, 8) returns 10 .... since 10 is the larger of 10 and 8\n",
        "\n",
        "bigger(12, 5) returns 12 ... since 12 is the larger of 12 and 5\n",
        "\n",
        "bigger(3, 5) returns 5 ... since 5 is the larger of 3 and 5\n",
        "\n",
        "bigger(12, 20) returns 20 ... since 20 is the larger of 12 and 20\n",
        "\n",
        "**6)** Write a short program that uses the function bigger which you just defined. Your program should ask the user to enter their age, and then ask the user to enter their friend's age. Finally, the program should use the bigger function and then print out the message:\n",
        "\n",
        "\"The older of the two people is **** years old\" \n",
        "\n",
        "(Where the **** should be replaced by the age of the older person)\n",
        "\n"
      ]
    },
    {
      "cell_type": "code",
      "metadata": {
        "id": "5FxyH9kH3T8P",
        "colab_type": "code",
        "colab": {}
      },
      "source": [
        "#4 compare input to 10 and print larger \n",
        "def bigger10(number):\n",
        "  if number < 10:\n",
        "    print(10)\n",
        "  else:\n",
        "    print(number)"
      ],
      "execution_count": null,
      "outputs": []
    },
    {
      "cell_type": "code",
      "metadata": {
        "id": "iRX2tz7V3V0O",
        "colab_type": "code",
        "colab": {
          "base_uri": "https://localhost:8080/",
          "height": 51
        },
        "outputId": "8675da9e-fcb0-488b-b93b-852a286339f7"
      },
      "source": [
        "bigger10(8)\n",
        "bigger10(12)"
      ],
      "execution_count": null,
      "outputs": [
        {
          "output_type": "stream",
          "text": [
            "10\n",
            "12\n"
          ],
          "name": "stdout"
        }
      ]
    },
    {
      "cell_type": "code",
      "metadata": {
        "id": "qzHeH5KM3V5I",
        "colab_type": "code",
        "colab": {}
      },
      "source": [
        "#5 compare 2 numbers and print larger\n",
        "def bigger(num1, num2):\n",
        "  if num1 > num2:\n",
        "    return num1\n",
        "  else:\n",
        "    return num2"
      ],
      "execution_count": null,
      "outputs": []
    },
    {
      "cell_type": "code",
      "metadata": {
        "id": "8QgcuNsX3UTu",
        "colab_type": "code",
        "colab": {
          "base_uri": "https://localhost:8080/",
          "height": 34
        },
        "outputId": "13247a22-8951-4e9e-c2c1-23934400575d"
      },
      "source": [
        "bigger(34, 12)"
      ],
      "execution_count": 65,
      "outputs": [
        {
          "output_type": "execute_result",
          "data": {
            "text/plain": [
              "34"
            ]
          },
          "metadata": {
            "tags": []
          },
          "execution_count": 65
        }
      ]
    },
    {
      "cell_type": "code",
      "metadata": {
        "id": "IRHSADt53Uem",
        "colab_type": "code",
        "colab": {
          "base_uri": "https://localhost:8080/",
          "height": 68
        },
        "outputId": "443e95bd-e92d-424b-b4c5-321d45065a64"
      },
      "source": [
        "#6 compare ages\n",
        "age1 = int(input(\"Enter your age:\"))\n",
        "age2 = int(input(\"Enter your friend's age:\"))\n",
        "x = bigger(age1, age2)\n",
        "print(\"The older of the two people is\", x, \"years old.\")"
      ],
      "execution_count": null,
      "outputs": [
        {
          "output_type": "stream",
          "text": [
            "Enter your age:20\n",
            "Enter your friend's age:28\n",
            "The older of the two people is 28 years old.\n"
          ],
          "name": "stdout"
        }
      ]
    },
    {
      "cell_type": "markdown",
      "metadata": {
        "id": "ELH0N3BwT2vN",
        "colab_type": "text"
      },
      "source": [
        "-------\n",
        "\n",
        "Problems 0 through 6 are the required problems for this week, but if you are able to do Problem 7 it will help you next week\n",
        "\n",
        "**7)**  In the previous assignment, you created a guessing game. If you didn't get it working perfectly, that is fine, now is a great time to revisit it and get it working. \n",
        "\n",
        "The guessing game starts with a number and then repeatedly asks the user to guess the number. After each guess the game should tell the user whether their guess was \"too high\" or \"too low\". \n",
        "\n",
        "For this assignment, I want you to put your guessing game into a function called play_the_game. The function should take one input which is the target number that the player is trying to guess. The function should return the number of tries it takes the player to guess the number. \n",
        "\n",
        "By putting this in a function, I could write this in my main program:\n"
      ]
    },
    {
      "cell_type": "code",
      "metadata": {
        "id": "IJ8cuY5uT3Qu",
        "colab_type": "code",
        "colab": {}
      },
      "source": [
        "score = play_the_game(51)\n",
        "print(\"It took you\", score, \"tries to guess the number)"
      ],
      "execution_count": null,
      "outputs": []
    },
    {
      "cell_type": "markdown",
      "metadata": {
        "id": "0XCfjB1oUGxn",
        "colab_type": "text"
      },
      "source": [
        "Also, without changing the function at all, I could play the guessing game with a random target number"
      ]
    },
    {
      "cell_type": "code",
      "metadata": {
        "id": "jPl7D-DoUJLK",
        "colab_type": "code",
        "colab": {}
      },
      "source": [
        "import random\n",
        "target_number = random.randint(0,100)\n",
        "score = play_the_game(target_number)\n",
        "print(\"It took you\", score, \"tries to guess the number)"
      ],
      "execution_count": null,
      "outputs": []
    }
  ]
}